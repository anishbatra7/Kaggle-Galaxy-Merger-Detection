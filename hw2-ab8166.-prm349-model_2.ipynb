{
 "cells": [
  {
   "cell_type": "markdown",
   "metadata": {},
   "source": [
    "# CS-GY 9223-D: Deep Learning Homework 2\n",
    "\n",
    "## Xception\n",
    "\n",
    "Member 1: Anish Batra, ab8166\n",
    "\n",
    "Member 2: Prashant Mahajan, prm349"
   ]
  },
  {
   "cell_type": "markdown",
   "metadata": {},
   "source": [
    "### Importing libraries"
   ]
  },
  {
   "cell_type": "code",
   "execution_count": 1,
   "metadata": {},
   "outputs": [
    {
     "name": "stderr",
     "output_type": "stream",
     "text": [
      "Using TensorFlow backend.\n"
     ]
    }
   ],
   "source": [
    "%matplotlib inline\n",
    "import os\n",
    "import matplotlib.pyplot as plt\n",
    "import pandas as pd\n",
    "import numpy as np\n",
    "import random\n",
    "from importlib import reload\n",
    "import keras\n",
    "from keras.preprocessing.image import ImageDataGenerator\n",
    "from keras.applications.xception import Xception\n",
    "from keras.applications.xception import preprocess_input\n",
    "from keras.layers import Flatten\n",
    "from keras.layers import Dense\n",
    "from keras.layers import Input\n",
    "from keras.models import Model\n",
    "from keras import backend as K\n",
    "import tensorflow as tf\n",
    "import glob\n",
    "from shutil import copyfile\n",
    "from keras.models import load_model"
   ]
  },
  {
   "cell_type": "markdown",
   "metadata": {},
   "source": [
    "### Check if GPU is available"
   ]
  },
  {
   "cell_type": "code",
   "execution_count": 2,
   "metadata": {},
   "outputs": [
    {
     "name": "stdout",
     "output_type": "stream",
     "text": [
      "[name: \"/device:CPU:0\"\n",
      "device_type: \"CPU\"\n",
      "memory_limit: 268435456\n",
      "locality {\n",
      "}\n",
      "incarnation: 13510778217880047330\n",
      ", name: \"/device:XLA_GPU:0\"\n",
      "device_type: \"XLA_GPU\"\n",
      "memory_limit: 17179869184\n",
      "locality {\n",
      "}\n",
      "incarnation: 14125001420809185457\n",
      "physical_device_desc: \"device: XLA_GPU device\"\n",
      ", name: \"/device:XLA_CPU:0\"\n",
      "device_type: \"XLA_CPU\"\n",
      "memory_limit: 17179869184\n",
      "locality {\n",
      "}\n",
      "incarnation: 16751161472482582225\n",
      "physical_device_desc: \"device: XLA_CPU device\"\n",
      ", name: \"/device:GPU:0\"\n",
      "device_type: \"GPU\"\n",
      "memory_limit: 15560753152\n",
      "locality {\n",
      "  bus_id: 1\n",
      "  links {\n",
      "  }\n",
      "}\n",
      "incarnation: 17256872866678036601\n",
      "physical_device_desc: \"device: 0, name: Tesla V100-SXM2-16GB, pci bus id: 0000:00:04.0, compute capability: 7.0\"\n",
      "]\n"
     ]
    }
   ],
   "source": [
    "from tensorflow.python.client import device_lib\n",
    "print(device_lib.list_local_devices())"
   ]
  },
  {
   "cell_type": "markdown",
   "metadata": {},
   "source": [
    "### Loading pretrained Xception model from keras"
   ]
  },
  {
   "cell_type": "code",
   "execution_count": 3,
   "metadata": {},
   "outputs": [
    {
     "name": "stdout",
     "output_type": "stream",
     "text": [
      "WARNING:tensorflow:From /usr/local/lib/python3.5/dist-packages/tensorflow/python/framework/op_def_library.py:263: colocate_with (from tensorflow.python.framework.ops) is deprecated and will be removed in a future version.\n",
      "Instructions for updating:\n",
      "Colocations handled automatically by placer.\n"
     ]
    }
   ],
   "source": [
    "img_shape = (224, 224, 3)\n",
    "\n",
    "xception_model = Xception(include_top=False, input_shape=img_shape)"
   ]
  },
  {
   "cell_type": "code",
   "execution_count": 4,
   "metadata": {},
   "outputs": [],
   "source": [
    "# print(xception_model.summary())"
   ]
  },
  {
   "cell_type": "markdown",
   "metadata": {},
   "source": [
    "### Loading Images and Augmentation"
   ]
  },
  {
   "cell_type": "code",
   "execution_count": 5,
   "metadata": {},
   "outputs": [
    {
     "name": "stdout",
     "output_type": "stream",
     "text": [
      "Found 60347 images.\n",
      "Found 1231 images.\n"
     ]
    }
   ],
   "source": [
    "classes = [\n",
    "    'Class1.1', 'Class1.2', 'Class1.3', 'Class2.1', 'Class2.2', 'Class3.1',\n",
    "    'Class3.2', 'Class4.1', 'Class4.2', 'Class5.1', 'Class5.2', 'Class5.3',\n",
    "    'Class5.4', 'Class6.1', 'Class6.2', 'Class7.1', 'Class7.2', 'Class7.3',\n",
    "    'Class8.1', 'Class8.2', 'Class8.3', 'Class8.4', 'Class8.5', 'Class8.6',\n",
    "    'Class8.7', 'Class9.1', 'Class9.2', 'Class9.3', 'Class10.1', 'Class10.2',\n",
    "    'Class10.3', 'Class11.1', 'Class11.2', 'Class11.3', 'Class11.4',\n",
    "    'Class11.5', 'Class11.6'\n",
    "]\n",
    "\n",
    "\n",
    "def append_ext(fn):\n",
    "    return fn + \".jpg\"\n",
    "\n",
    "\n",
    "traindf = pd.read_csv('training_solutions_rev1.csv')\n",
    "\n",
    "traindf[\"id\"] = traindf['GalaxyID'].astype(str).apply(append_ext)\n",
    "\n",
    "datagen = ImageDataGenerator(\n",
    "    fill_mode='nearest',\n",
    "    cval=0,\n",
    "    rescale=1. / 255,\n",
    "    rotation_range=90,\n",
    "    width_shift_range=0.1,\n",
    "    height_shift_range=0.1,\n",
    "    horizontal_flip=True,\n",
    "    vertical_flip=True,\n",
    "    validation_split=0.02)\n",
    "\n",
    "train_generator = datagen.flow_from_dataframe(\n",
    "    dataframe=traindf,\n",
    "    directory=\"images_training_rev1/\",\n",
    "    x_col=\"id\",\n",
    "    y_col=classes,\n",
    "    subset=\"training\",\n",
    "    batch_size=64,\n",
    "    seed=123,\n",
    "    shuffle=True,\n",
    "    class_mode=\"other\",\n",
    "    target_size=(224, 224))\n",
    "\n",
    "valid_generator = datagen.flow_from_dataframe(\n",
    "    dataframe=traindf,\n",
    "    directory=\"images_training_rev1/\",\n",
    "    x_col=\"id\",\n",
    "    y_col=classes,\n",
    "    subset=\"validation\",\n",
    "    batch_size=64,\n",
    "    seed=123,\n",
    "    shuffle=True,\n",
    "    class_mode=\"other\",\n",
    "    target_size=(224, 224))\n",
    "\n",
    "STEP_SIZE_TRAIN = train_generator.n // train_generator.batch_size\n",
    "STEP_SIZE_VALID = valid_generator.n // valid_generator.batch_size"
   ]
  },
  {
   "cell_type": "markdown",
   "metadata": {},
   "source": [
    "### Adjust outputs layers of loaded model according to the given training data"
   ]
  },
  {
   "cell_type": "code",
   "execution_count": 6,
   "metadata": {},
   "outputs": [],
   "source": [
    "# Flatten output of last layer before adding output layer (Dense layer)\n",
    "x = Flatten()(xception_model.output)\n",
    "\n",
    "# Add output layer (number of outputs = 37)\n",
    "x = Dense(len(classes), activation='sigmoid')(x)\n",
    "\n",
    "# Load the modified model\n",
    "model = Model(inputs=xception_model.input, outputs=x)"
   ]
  },
  {
   "cell_type": "markdown",
   "metadata": {},
   "source": [
    "### Visualize architecture of modified model; ready to be compiled"
   ]
  },
  {
   "cell_type": "code",
   "execution_count": 7,
   "metadata": {},
   "outputs": [],
   "source": [
    "# print(model.summary())"
   ]
  },
  {
   "cell_type": "markdown",
   "metadata": {},
   "source": [
    "### Fine tune all layers of the model | Adam Optimizer (decay)"
   ]
  },
  {
   "cell_type": "code",
   "execution_count": 8,
   "metadata": {},
   "outputs": [],
   "source": [
    "for layer in model.layers:\n",
    "    layer.trainable = True\n",
    "\n",
    "optimizer = keras.optimizers.Adam(lr=0.001, decay=5e-4)\n",
    "\n",
    "# optimizer = keras.optimizers.Nadam(lr=0.002, beta_1=0.9, beta_2=0.999, epsilon=None, schedule_decay=0.004)\n",
    "\n",
    "model.compile(optimizer, loss='mse', metrics=[\"accuracy\"])"
   ]
  },
  {
   "cell_type": "markdown",
   "metadata": {},
   "source": [
    "### Load callbacks - ModelCheckpoint, Callback, EarlyStopping"
   ]
  },
  {
   "cell_type": "code",
   "execution_count": 9,
   "metadata": {},
   "outputs": [],
   "source": [
    "from keras.callbacks import Callback\n",
    "from keras.callbacks import ModelCheckpoint, Callback, EarlyStopping\n",
    "\n",
    "\n",
    "class LossHistory(Callback):\n",
    "    def on_train_begin(self, logs={}):\n",
    "        self.losses = []\n",
    "        self.val_losses = []\n",
    "\n",
    "    def on_batch_end(self, batch, logs={}):\n",
    "        self.losses.append(logs.get('loss'))\n",
    "        self.val_losses.append(logs.get('val_loss'))\n",
    "\n",
    "\n",
    "early_stopping = EarlyStopping(\n",
    "    monitor='val_loss', patience=8, verbose=1, mode='auto')\n",
    "\n",
    "history = LossHistory()\n",
    "\n",
    "from keras.callbacks import ModelCheckpoint\n",
    "checkpointer = ModelCheckpoint(\n",
    "    filepath='last_day_epochs/weights_adam.hdf5',\n",
    "    verbose=2,\n",
    "    save_best_only=True)"
   ]
  },
  {
   "cell_type": "markdown",
   "metadata": {},
   "source": [
    "### Fit the model"
   ]
  },
  {
   "cell_type": "code",
   "execution_count": 10,
   "metadata": {},
   "outputs": [
    {
     "name": "stdout",
     "output_type": "stream",
     "text": [
      "WARNING:tensorflow:From /usr/local/lib/python3.5/dist-packages/tensorflow/python/ops/math_ops.py:3066: to_int32 (from tensorflow.python.ops.math_ops) is deprecated and will be removed in a future version.\n",
      "Instructions for updating:\n",
      "Use tf.cast instead.\n",
      "Epoch 1/30\n",
      "942/942 [==============================] - 1966s 2s/step - loss: 0.0130 - acc: 0.7513 - val_loss: 0.0093 - val_acc: 0.7862\n",
      "\n",
      "Epoch 00001: val_loss improved from inf to 0.00932, saving model to last_day_epochs/weights_adam.hdf5\n",
      "Epoch 2/30\n",
      "942/942 [==============================] - 816s 866ms/step - loss: 0.0085 - acc: 0.7933 - val_loss: 0.0078 - val_acc: 0.8183\n",
      "\n",
      "Epoch 00002: val_loss improved from 0.00932 to 0.00783, saving model to last_day_epochs/weights_adam.hdf5\n",
      "Epoch 3/30\n",
      "942/942 [==============================] - 816s 866ms/step - loss: 0.0077 - acc: 0.8039 - val_loss: 0.0075 - val_acc: 0.8295\n",
      "\n",
      "Epoch 00003: val_loss improved from 0.00783 to 0.00751, saving model to last_day_epochs/weights_adam.hdf5\n",
      "Epoch 4/30\n",
      "942/942 [==============================] - 813s 863ms/step - loss: 0.0072 - acc: 0.8124 - val_loss: 0.0073 - val_acc: 0.8389\n",
      "\n",
      "Epoch 00004: val_loss improved from 0.00751 to 0.00735, saving model to last_day_epochs/weights_adam.hdf5\n",
      "Epoch 5/30\n",
      "942/942 [==============================] - 808s 858ms/step - loss: 0.0069 - acc: 0.8154 - val_loss: 0.0070 - val_acc: 0.8295\n",
      "\n",
      "Epoch 00005: val_loss improved from 0.00735 to 0.00703, saving model to last_day_epochs/weights_adam.hdf5\n",
      "Epoch 6/30\n",
      "942/942 [==============================] - 811s 861ms/step - loss: 0.0067 - acc: 0.8212 - val_loss: 0.0068 - val_acc: 0.8252\n",
      "\n",
      "Epoch 00006: val_loss improved from 0.00703 to 0.00675, saving model to last_day_epochs/weights_adam.hdf5\n",
      "Epoch 7/30\n",
      "942/942 [==============================] - 811s 861ms/step - loss: 0.0065 - acc: 0.8253 - val_loss: 0.0070 - val_acc: 0.8312\n",
      "\n",
      "Epoch 00007: val_loss did not improve from 0.00675\n",
      "Epoch 8/30\n",
      "942/942 [==============================] - 812s 862ms/step - loss: 0.0063 - acc: 0.8289 - val_loss: 0.0065 - val_acc: 0.8346\n",
      "\n",
      "Epoch 00008: val_loss improved from 0.00675 to 0.00654, saving model to last_day_epochs/weights_adam.hdf5\n",
      "Epoch 9/30\n",
      "942/942 [==============================] - 814s 864ms/step - loss: 0.0062 - acc: 0.8316 - val_loss: 0.0067 - val_acc: 0.8303\n",
      "\n",
      "Epoch 00009: val_loss did not improve from 0.00654\n",
      "Epoch 10/30\n",
      "942/942 [==============================] - 810s 860ms/step - loss: 0.0061 - acc: 0.8329 - val_loss: 0.0063 - val_acc: 0.8466\n",
      "\n",
      "Epoch 00010: val_loss improved from 0.00654 to 0.00630, saving model to last_day_epochs/weights_adam.hdf5\n",
      "Epoch 11/30\n",
      "942/942 [==============================] - 813s 863ms/step - loss: 0.0059 - acc: 0.8341 - val_loss: 0.0064 - val_acc: 0.8432\n",
      "\n",
      "Epoch 00011: val_loss did not improve from 0.00630\n",
      "Epoch 12/30\n",
      "942/942 [==============================] - 814s 864ms/step - loss: 0.0058 - acc: 0.8338 - val_loss: 0.0064 - val_acc: 0.8432\n",
      "\n",
      "Epoch 00012: val_loss did not improve from 0.00630\n",
      "Epoch 13/30\n",
      "942/942 [==============================] - 811s 861ms/step - loss: 0.0057 - acc: 0.8364 - val_loss: 0.0060 - val_acc: 0.8492\n",
      "\n",
      "Epoch 00013: val_loss improved from 0.00630 to 0.00604, saving model to last_day_epochs/weights_adam.hdf5\n",
      "Epoch 14/30\n",
      "942/942 [==============================] - 812s 862ms/step - loss: 0.0057 - acc: 0.8380 - val_loss: 0.0062 - val_acc: 0.8303\n",
      "\n",
      "Epoch 00014: val_loss did not improve from 0.00604\n",
      "Epoch 15/30\n",
      "942/942 [==============================] - 803s 853ms/step - loss: 0.0056 - acc: 0.8400 - val_loss: 0.0062 - val_acc: 0.8578\n",
      "\n",
      "Epoch 00015: val_loss did not improve from 0.00604\n",
      "Epoch 16/30\n",
      "942/942 [==============================] - 802s 852ms/step - loss: 0.0055 - acc: 0.8391 - val_loss: 0.0063 - val_acc: 0.8278\n",
      "\n",
      "Epoch 00016: val_loss did not improve from 0.00604\n",
      "Epoch 17/30\n",
      "942/942 [==============================] - 802s 851ms/step - loss: 0.0054 - acc: 0.8412 - val_loss: 0.0060 - val_acc: 0.8440\n",
      "\n",
      "Epoch 00017: val_loss improved from 0.00604 to 0.00598, saving model to last_day_epochs/weights_adam.hdf5\n",
      "Epoch 18/30\n",
      "942/942 [==============================] - 791s 840ms/step - loss: 0.0053 - acc: 0.8433 - val_loss: 0.0063 - val_acc: 0.8440\n",
      "\n",
      "Epoch 00018: val_loss did not improve from 0.00598\n",
      "Epoch 19/30\n",
      "942/942 [==============================] - 799s 848ms/step - loss: 0.0052 - acc: 0.8435 - val_loss: 0.0060 - val_acc: 0.8432\n",
      "\n",
      "Epoch 00019: val_loss improved from 0.00598 to 0.00595, saving model to last_day_epochs/weights_adam.hdf5\n",
      "Epoch 20/30\n",
      "942/942 [==============================] - 803s 852ms/step - loss: 0.0052 - acc: 0.8451 - val_loss: 0.0064 - val_acc: 0.8398\n",
      "\n",
      "Epoch 00020: val_loss did not improve from 0.00595\n",
      "Epoch 21/30\n",
      "942/942 [==============================] - 802s 851ms/step - loss: 0.0051 - acc: 0.8462 - val_loss: 0.0062 - val_acc: 0.8339\n",
      "\n",
      "Epoch 00021: val_loss did not improve from 0.00595\n",
      "Epoch 22/30\n",
      "942/942 [==============================] - 798s 847ms/step - loss: 0.0050 - acc: 0.8491 - val_loss: 0.0061 - val_acc: 0.8492\n",
      "\n",
      "Epoch 00022: val_loss did not improve from 0.00595\n",
      "Epoch 23/30\n",
      "942/942 [==============================] - 798s 848ms/step - loss: 0.0050 - acc: 0.8489 - val_loss: 0.0062 - val_acc: 0.8526\n",
      "\n",
      "Epoch 00023: val_loss did not improve from 0.00595\n",
      "Epoch 24/30\n",
      "942/942 [==============================] - 794s 843ms/step - loss: 0.0049 - acc: 0.8487 - val_loss: 0.0062 - val_acc: 0.8303\n",
      "\n",
      "Epoch 00024: val_loss did not improve from 0.00595\n",
      "Epoch 25/30\n",
      "942/942 [==============================] - 802s 852ms/step - loss: 0.0048 - acc: 0.8517 - val_loss: 0.0059 - val_acc: 0.8475\n",
      "\n",
      "Epoch 00025: val_loss improved from 0.00595 to 0.00593, saving model to last_day_epochs/weights_adam.hdf5\n",
      "Epoch 26/30\n",
      "942/942 [==============================] - 800s 849ms/step - loss: 0.0047 - acc: 0.8521 - val_loss: 0.0063 - val_acc: 0.8286\n",
      "\n",
      "Epoch 00026: val_loss did not improve from 0.00593\n",
      "Epoch 27/30\n",
      "942/942 [==============================] - 801s 850ms/step - loss: 0.0047 - acc: 0.8543 - val_loss: 0.0063 - val_acc: 0.8363\n",
      "\n",
      "Epoch 00027: val_loss did not improve from 0.00593\n",
      "Epoch 28/30\n",
      "942/942 [==============================] - 803s 852ms/step - loss: 0.0046 - acc: 0.8539 - val_loss: 0.0060 - val_acc: 0.8500\n",
      "\n",
      "Epoch 00028: val_loss did not improve from 0.00593\n",
      "Epoch 29/30\n",
      "942/942 [==============================] - 804s 853ms/step - loss: 0.0045 - acc: 0.8550 - val_loss: 0.0062 - val_acc: 0.8295\n",
      "\n",
      "Epoch 00029: val_loss did not improve from 0.00593\n",
      "Epoch 30/30\n",
      "942/942 [==============================] - 805s 855ms/step - loss: 0.0045 - acc: 0.8542 - val_loss: 0.0064 - val_acc: 0.8526\n",
      "\n",
      "Epoch 00030: val_loss did not improve from 0.00593\n"
     ]
    }
   ],
   "source": [
    "hist = model.fit_generator(\n",
    "    train_generator,\n",
    "    steps_per_epoch=STEP_SIZE_TRAIN,\n",
    "    validation_data=valid_generator,\n",
    "    validation_steps=STEP_SIZE_VALID,\n",
    "    epochs=30,\n",
    "    callbacks=[history, checkpointer, early_stopping])"
   ]
  },
  {
   "cell_type": "markdown",
   "metadata": {},
   "source": [
    "### Plot training and validation loss"
   ]
  },
  {
   "cell_type": "code",
   "execution_count": 11,
   "metadata": {},
   "outputs": [
    {
     "data": {
      "image/png": "[encoded data removed]",
      "text/plain": [
       "<Figure size 864x576 with 1 Axes>"
      ]
     },
     "metadata": {},
     "output_type": "display_data"
    }
   ],
   "source": [
    "plt.figure(figsize=(12, 8))\n",
    "plt.plot(hist.epoch, hist.history['loss'], label='Training Loss')\n",
    "plt.plot(\n",
    "    hist.epoch, hist.history['val_loss'], label='Validation', linestyle='--')\n",
    "plt.xlabel(\"Epochs\")\n",
    "plt.ylabel(\"RMSE\")\n",
    "plt.legend()\n",
    "plt.show()"
   ]
  },
  {
   "cell_type": "markdown",
   "metadata": {},
   "source": [
    "### Load the best model from saved weights file"
   ]
  },
  {
   "cell_type": "code",
   "execution_count": 12,
   "metadata": {},
   "outputs": [],
   "source": [
    "from keras.models import load_model\n",
    "\n",
    "model = load_model('last_day_epochs/weights_adam.hdf5')"
   ]
  },
  {
   "cell_type": "markdown",
   "metadata": {},
   "source": [
    "### Prepare ImageDataGenerator for test data"
   ]
  },
  {
   "cell_type": "code",
   "execution_count": 13,
   "metadata": {},
   "outputs": [
    {
     "name": "stdout",
     "output_type": "stream",
     "text": [
      "Found 600 images belonging to 1 classes.\n"
     ]
    }
   ],
   "source": [
    "test_datagen = ImageDataGenerator(rescale=1. / 255)\n",
    "\n",
    "test_generator = test_datagen.flow_from_directory(\n",
    "    r\"./xception_test\",\n",
    "    class_mode=None,\n",
    "    color_mode=\"rgb\",\n",
    "    batch_size=1,\n",
    "    target_size=(224, 224),\n",
    "    seed=123,\n",
    "    shuffle=False)"
   ]
  },
  {
   "cell_type": "markdown",
   "metadata": {},
   "source": [
    "### Make predictions on the test data"
   ]
  },
  {
   "cell_type": "code",
   "execution_count": 14,
   "metadata": {},
   "outputs": [
    {
     "name": "stdout",
     "output_type": "stream",
     "text": [
      "600/600 [==============================] - 7s 12ms/step\n",
      "(600, 37)\n"
     ]
    }
   ],
   "source": [
    "test_generator.reset()\n",
    "\n",
    "predictions = model.predict_generator(\n",
    "    test_generator,\n",
    "    steps=test_generator.n / test_generator.batch_size,\n",
    "    verbose=1)\n",
    "\n",
    "print(predictions.shape)"
   ]
  },
  {
   "cell_type": "markdown",
   "metadata": {},
   "source": [
    "### Save results to .csv file"
   ]
  },
  {
   "cell_type": "code",
   "execution_count": 15,
   "metadata": {},
   "outputs": [],
   "source": [
    "def get_id(fname):\n",
    "    return fname.replace(\".jpg\", \"\").split(\"/\")[1]\n",
    "\n",
    "\n",
    "header = open('all_zeros_benchmark.csv', 'r').readlines()[0]\n",
    "\n",
    "with open('xception_ensemble.csv', 'w') as outfile:\n",
    "    outfile.write(header)\n",
    "    for i in range(len(test_generator.filenames)):\n",
    "        id_ = (get_id(test_generator.filenames[i]))\n",
    "        pred = predictions[i]\n",
    "        outline = id_ + \",\" + \",\".join([str(x) for x in pred])\n",
    "        outfile.write(outline + \"\\n\")"
   ]
  }
 ],
 "metadata": {
  "kernelspec": {
   "display_name": "Python 3",
   "language": "python",
   "name": "python3"
  },
  "language_info": {
   "codemirror_mode": {
    "name": "ipython",
    "version": 3
   },
   "file_extension": ".py",
   "mimetype": "text/x-python",
   "name": "python",
   "nbconvert_exporter": "python",
   "pygments_lexer": "ipython3",
   "version": "3.6.8"
  }
 },
 "nbformat": 4,
 "nbformat_minor": 2
}
